{
 "cells": [
  {
   "cell_type": "code",
   "execution_count": 1,
   "metadata": {},
   "outputs": [
    {
     "data": {
      "text/html": [
       "<div id=\"glowscript\" class=\"glowscript\"></div>"
      ],
      "text/plain": [
       "<IPython.core.display.HTML object>"
      ]
     },
     "metadata": {},
     "output_type": "display_data"
    },
    {
     "data": {
      "application/javascript": [
       "if (typeof Jupyter !== \"undefined\") { window.__context = { glowscript_container: $(\"#glowscript\").removeAttr(\"id\")};}else{ element.textContent = ' ';}"
      ],
      "text/plain": [
       "<IPython.core.display.Javascript object>"
      ]
     },
     "metadata": {},
     "output_type": "display_data"
    }
   ],
   "source": [
    "from vpython import *\n",
    "import serial\n",
    "import string\n",
    "import math\n",
    "\n",
    "from time import time"
   ]
  },
  {
   "cell_type": "code",
   "execution_count": 2,
   "metadata": {},
   "outputs": [
    {
     "data": {
      "text/html": [
       "<div id=\"glowscript\" class=\"glowscript\"></div>"
      ],
      "text/plain": [
       "<IPython.core.display.HTML object>"
      ]
     },
     "metadata": {},
     "output_type": "display_data"
    },
    {
     "data": {
      "application/javascript": [
       "if (typeof Jupyter !== \"undefined\") { window.__context = { glowscript_container: $(\"#glowscript\").removeAttr(\"id\")};}else{ element.textContent = ' ';}"
      ],
      "text/plain": [
       "<IPython.core.display.Javascript object>"
      ]
     },
     "metadata": {},
     "output_type": "display_data"
    },
    {
     "data": {
      "text/html": [
       "<div id=\"glowscript\" class=\"glowscript\"></div>"
      ],
      "text/plain": [
       "<IPython.core.display.HTML object>"
      ]
     },
     "metadata": {},
     "output_type": "display_data"
    },
    {
     "data": {
      "application/javascript": [
       "if (typeof Jupyter !== \"undefined\") { window.__context = { glowscript_container: $(\"#glowscript\").removeAttr(\"id\")};}else{ element.textContent = ' ';}"
      ],
      "text/plain": [
       "<IPython.core.display.Javascript object>"
      ]
     },
     "metadata": {},
     "output_type": "display_data"
    },
    {
     "data": {
      "application/javascript": [
       "if (typeof Jupyter !== \"undefined\") {require.undef(\"nbextensions/vpython_libraries/glow.min\");}else{element.textContent = ' ';}"
      ],
      "text/plain": [
       "<IPython.core.display.Javascript object>"
      ]
     },
     "metadata": {},
     "output_type": "display_data"
    },
    {
     "data": {
      "application/javascript": [
       "if (typeof Jupyter !== \"undefined\") {require.undef(\"nbextensions/vpython_libraries/glowcomm\");}else{element.textContent = ' ';}"
      ],
      "text/plain": [
       "<IPython.core.display.Javascript object>"
      ]
     },
     "metadata": {},
     "output_type": "display_data"
    },
    {
     "data": {
      "application/javascript": [
       "if (typeof Jupyter !== \"undefined\") {require.undef(\"nbextensions/vpython_libraries/jquery-ui.custom.min\");}else{element.textContent = ' ';}"
      ],
      "text/plain": [
       "<IPython.core.display.Javascript object>"
      ]
     },
     "metadata": {},
     "output_type": "display_data"
    },
    {
     "data": {
      "application/javascript": [
       "if (typeof Jupyter !== \"undefined\") {require([\"nbextensions/vpython_libraries/glow.min\"], function(){console.log(\"GLOW LOADED\");});}else{element.textContent = ' ';}"
      ],
      "text/plain": [
       "<IPython.core.display.Javascript object>"
      ]
     },
     "metadata": {},
     "output_type": "display_data"
    },
    {
     "data": {
      "application/javascript": [
       "if (typeof Jupyter !== \"undefined\") {require([\"nbextensions/vpython_libraries/glowcomm\"], function(){console.log(\"GLOWCOMM LOADED\");});}else{element.textContent = ' ';}"
      ],
      "text/plain": [
       "<IPython.core.display.Javascript object>"
      ]
     },
     "metadata": {},
     "output_type": "display_data"
    },
    {
     "data": {
      "application/javascript": [
       "if (typeof Jupyter !== \"undefined\") {require([\"nbextensions/vpython_libraries/jquery-ui.custom.min\"], function(){console.log(\"JQUERY LOADED\");});}else{element.textContent = ' ';}"
      ],
      "text/plain": [
       "<IPython.core.display.Javascript object>"
      ]
     },
     "metadata": {},
     "output_type": "display_data"
    }
   ],
   "source": [
    "# Main scene\n",
    "scene=canvas(title=\"Arduino Nano + LSM9DS1 w/ Madgwick\",\n",
    "             width=500,\n",
    "             height=300,\n",
    "             center=vector(0,0,.20),\n",
    "             #range=1.2,\n",
    "             forward=vector(-.4,-.8,-.25),\n",
    "             up=vector(0,0,1),\n",
    "             userpan = True)\n",
    "\n",
    "# Second scene (Roll, Pitch, Yaw)\n",
    "scene2 = canvas(title='Arduino Nano + LSM9DS1 w/ Madgwick',\n",
    "                 x=0,\n",
    "                 y=0,\n",
    "                 width=500,\n",
    "                 height=300,\n",
    "                 center=vector(.1,0,.5),\n",
    "                 background=vector(0,0,0),\n",
    "                 userpan = True,\n",
    "                 range=.7)\n",
    "\n",
    "# Main scene objects\n",
    "# Reference axis (x,y,z)\n",
    "arrow(canvas=scene,color=color.green,axis=vector(1,0,0), shaftwidth=0.05, fixedwidth=1)\n",
    "arrow(canvas=scene,color=color.green,axis=vector(0,1,0), shaftwidth=0.05, fixedwidth=1)\n",
    "arrow(canvas=scene,color=color.green,axis=vector(0,0,1), shaftwidth=0.05 , fixedwidth=1)\n",
    "# labels\n",
    "#label(canvas=scene,pos=vector(0,0,0.8),text=\"Arduino Nano + LSM9DS1 w/ Madgwick\",box=0,opacity=0)\n",
    "label(canvas=scene,pos=vector(1.1,0,0),text=\"X\",box=0,opacity=0)\n",
    "label(canvas=scene,pos=vector(0,1.1,0),text=\"Y\",box=0,opacity=0)\n",
    "label(canvas=scene,pos=vector(0,0,1.1),text=\"Z\",box=0,opacity=0)\n",
    "# IMU object\n",
    "platform = box(canvas=scene,up=vector(0,0,1),axis=vector(0,1,0),length=1, height=0.05, width=1, color=color.blue)\n",
    "p_line = box(canvas=scene,up=vector(0,0,1),axis=vector(0,1,0),length=1,height=0.08,width=0.1,color=color.yellow)\n",
    "plat_arrow = arrow(canvas=scene,up=vector(0,0,1),color=color.yellow,axis=vector(0,1,0), shaftwidth=0.06, fixedwidth=1)\n",
    "\n",
    "#Second Scene\n",
    "#Roll, Pitch, Yaw\n",
    "cil_pitch = cylinder(canvas=scene2,pos=vector(-0.4,0,0),axis=vector(0.2,0,0),radius=0.01)\n",
    "cil_pitch2 = cylinder(canvas=scene2,pos=vector(-0.4,0,0),axis=vector(-0.2,0,0),radius=0.01,color=color.red)\n",
    "cil_roll = cylinder(canvas=scene2,pos=vector(0.1,0,0),axis=vector(0.2,0,0),radius=0.01,color=color.green)\n",
    "cil_roll2 = cylinder(canvas=scene2,pos=vector(0.1,0,0),axis=vector(-0.2,0,0),radius=0.01,color=color.green)\n",
    "arrow_course = arrow(canvas=scene2,pos=vector(0.6,0,0),color=color.cyan,axis=vector(-0.2,0,0), shaftwidth=0.02, fixedwidth=1)\n",
    "\n",
    "#Roll,Pitch,Yaw labels\n",
    "label(canvas=scene2,pos=vector(-0.4,0.5,0),text=\"Pitch\",box=0,opacity=0)\n",
    "label(canvas=scene2,pos=vector(0.1,0.5,0),text=\"Roll\",box=0,opacity=0)\n",
    "label(canvas=scene2,pos=vector(0.55,0.5,0),text=\"Yaw\",box=0,opacity=0)\n",
    "label(canvas=scene2,pos=vector(0.6,0.22,0),text=\"N\",box=0,opacity=0,color=color.yellow)\n",
    "label(canvas=scene2,pos=vector(0.6,-0.22,0),text=\"S\",box=0,opacity=0,color=color.yellow)\n",
    "label(canvas=scene2,pos=vector(0.38,0,0),text=\"W\",box=0,opacity=0,color=color.yellow)\n",
    "label(canvas=scene2,pos=vector(0.82,0,0),text=\"E\",box=0,opacity=0,color=color.yellow)\n",
    "label(canvas=scene2,pos=vector(0.75,0.15,0),height=7,text=\"NE\",box=0,color=color.yellow)\n",
    "label(canvas=scene2,pos=vector(0.45,0.15,0),height=7,text=\"NW\",box=0,color=color.yellow)\n",
    "label(canvas=scene2,pos=vector(0.75,-0.15,0),height=7,text=\"SE\",box=0,color=color.yellow)\n",
    "label(canvas=scene2,pos=vector(0.45,-0.15,0),height=7,text=\"SW\",box=0,color=color.yellow)\n",
    "\n",
    "L1 = label(canvas=scene2,pos=vector(-0.4,0.4,0),text=\"-\",box=0,opacity=0)\n",
    "L2 = label(canvas=scene2,pos=vector(0.1,0.4,0),text=\"-\",box=0,opacity=0)\n",
    "L3 = label(canvas=scene2,pos=vector(0.55,0.4,0),text=\"-\",box=0,opacity=0)"
   ]
  },
  {
   "cell_type": "code",
   "execution_count": 6,
   "metadata": {},
   "outputs": [
    {
     "ename": "SerialException",
     "evalue": "ClearCommError failed (PermissionError(13, 'The device does not recognize the command.', None, 22))",
     "output_type": "error",
     "traceback": [
      "\u001b[1;31m---------------------------------------------------------------------------\u001b[0m",
      "\u001b[1;31mSerialException\u001b[0m                           Traceback (most recent call last)",
      "\u001b[1;32m<ipython-input-6-bdd3a1c1aa8a>\u001b[0m in \u001b[0;36m<module>\u001b[1;34m\u001b[0m\n\u001b[0;32m     12\u001b[0m \u001b[1;33m\u001b[0m\u001b[0m\n\u001b[0;32m     13\u001b[0m \u001b[1;32mwhile\u001b[0m \u001b[1;32mTrue\u001b[0m\u001b[1;33m:\u001b[0m\u001b[1;33m\u001b[0m\u001b[1;33m\u001b[0m\u001b[0m\n\u001b[1;32m---> 14\u001b[1;33m     \u001b[0mline\u001b[0m \u001b[1;33m=\u001b[0m \u001b[0mser\u001b[0m\u001b[1;33m.\u001b[0m\u001b[0mreadline\u001b[0m\u001b[1;33m(\u001b[0m\u001b[1;33m)\u001b[0m\u001b[1;33m\u001b[0m\u001b[1;33m\u001b[0m\u001b[0m\n\u001b[0m\u001b[0;32m     15\u001b[0m     \u001b[1;31m#Decode bytes into string\u001b[0m\u001b[1;33m\u001b[0m\u001b[1;33m\u001b[0m\u001b[1;33m\u001b[0m\u001b[0m\n\u001b[0;32m     16\u001b[0m     \u001b[0mdecoded\u001b[0m \u001b[1;33m=\u001b[0m \u001b[0mstr\u001b[0m\u001b[1;33m(\u001b[0m\u001b[0mline\u001b[0m\u001b[1;33m,\u001b[0m \u001b[1;34m'utf-8'\u001b[0m\u001b[1;33m)\u001b[0m\u001b[1;33m\u001b[0m\u001b[1;33m\u001b[0m\u001b[0m\n",
      "\u001b[1;32m~\\anaconda3\\lib\\site-packages\\serial\\serialwin32.py\u001b[0m in \u001b[0;36mread\u001b[1;34m(self, size)\u001b[0m\n\u001b[0;32m    271\u001b[0m             \u001b[0mcomstat\u001b[0m \u001b[1;33m=\u001b[0m \u001b[0mwin32\u001b[0m\u001b[1;33m.\u001b[0m\u001b[0mCOMSTAT\u001b[0m\u001b[1;33m(\u001b[0m\u001b[1;33m)\u001b[0m\u001b[1;33m\u001b[0m\u001b[1;33m\u001b[0m\u001b[0m\n\u001b[0;32m    272\u001b[0m             \u001b[1;32mif\u001b[0m \u001b[1;32mnot\u001b[0m \u001b[0mwin32\u001b[0m\u001b[1;33m.\u001b[0m\u001b[0mClearCommError\u001b[0m\u001b[1;33m(\u001b[0m\u001b[0mself\u001b[0m\u001b[1;33m.\u001b[0m\u001b[0m_port_handle\u001b[0m\u001b[1;33m,\u001b[0m \u001b[0mctypes\u001b[0m\u001b[1;33m.\u001b[0m\u001b[0mbyref\u001b[0m\u001b[1;33m(\u001b[0m\u001b[0mflags\u001b[0m\u001b[1;33m)\u001b[0m\u001b[1;33m,\u001b[0m \u001b[0mctypes\u001b[0m\u001b[1;33m.\u001b[0m\u001b[0mbyref\u001b[0m\u001b[1;33m(\u001b[0m\u001b[0mcomstat\u001b[0m\u001b[1;33m)\u001b[0m\u001b[1;33m)\u001b[0m\u001b[1;33m:\u001b[0m\u001b[1;33m\u001b[0m\u001b[1;33m\u001b[0m\u001b[0m\n\u001b[1;32m--> 273\u001b[1;33m                 \u001b[1;32mraise\u001b[0m \u001b[0mSerialException\u001b[0m\u001b[1;33m(\u001b[0m\u001b[1;34m\"ClearCommError failed ({!r})\"\u001b[0m\u001b[1;33m.\u001b[0m\u001b[0mformat\u001b[0m\u001b[1;33m(\u001b[0m\u001b[0mctypes\u001b[0m\u001b[1;33m.\u001b[0m\u001b[0mWinError\u001b[0m\u001b[1;33m(\u001b[0m\u001b[1;33m)\u001b[0m\u001b[1;33m)\u001b[0m\u001b[1;33m)\u001b[0m\u001b[1;33m\u001b[0m\u001b[1;33m\u001b[0m\u001b[0m\n\u001b[0m\u001b[0;32m    274\u001b[0m             \u001b[0mn\u001b[0m \u001b[1;33m=\u001b[0m \u001b[0mmin\u001b[0m\u001b[1;33m(\u001b[0m\u001b[0mcomstat\u001b[0m\u001b[1;33m.\u001b[0m\u001b[0mcbInQue\u001b[0m\u001b[1;33m,\u001b[0m \u001b[0msize\u001b[0m\u001b[1;33m)\u001b[0m \u001b[1;32mif\u001b[0m \u001b[0mself\u001b[0m\u001b[1;33m.\u001b[0m\u001b[0mtimeout\u001b[0m \u001b[1;33m==\u001b[0m \u001b[1;36m0\u001b[0m \u001b[1;32melse\u001b[0m \u001b[0msize\u001b[0m\u001b[1;33m\u001b[0m\u001b[1;33m\u001b[0m\u001b[0m\n\u001b[0;32m    275\u001b[0m             \u001b[1;32mif\u001b[0m \u001b[0mn\u001b[0m \u001b[1;33m>\u001b[0m \u001b[1;36m0\u001b[0m\u001b[1;33m:\u001b[0m\u001b[1;33m\u001b[0m\u001b[1;33m\u001b[0m\u001b[0m\n",
      "\u001b[1;31mSerialException\u001b[0m: ClearCommError failed (PermissionError(13, 'The device does not recognize the command.', None, 22))"
     ]
    }
   ],
   "source": [
    "#Serial Connection for Arduino\n",
    "ser = serial.Serial(port='COM3',baudrate=115200, timeout=1)\n",
    "\n",
    "#Initialize variables\n",
    "roll=0\n",
    "pitch=0\n",
    "yaw=0\n",
    "\n",
    "#Degrees to radians\n",
    "deg2rad = 3.141592/180.0\n",
    "\n",
    "\n",
    "while True:\n",
    "    line = ser.readline()\n",
    "    #Decode bytes into string\n",
    "    decoded = str(line, 'utf-8')\n",
    "    size = len(decoded)\n",
    "    #Remove characters from end of string\n",
    "    mod_string = decoded[:size - 2]\n",
    "    words = str.split(mod_string,\",\")\n",
    "    \n",
    "    #Animation Rate \n",
    "    rate(12)\n",
    "    \n",
    "    if len(words) > 2:\n",
    "        try:\n",
    "            yaw = float(words[0])*deg2rad\n",
    "            roll = float(words[1])*deg2rad\n",
    "            pitch = float(words[2])*deg2rad\n",
    "        except:\n",
    "            print(\"Invalid line\")\n",
    "        \n",
    "        #When using radians:\n",
    "        #Cos and sin of a radian gives us it's x and y values (respectively) on a unit circle.\n",
    "        axis=vector(cos(pitch)*cos(yaw),\n",
    "                    -cos(pitch)*sin(yaw),\n",
    "                    sin(pitch))\n",
    "        \n",
    "        up=vector(sin(roll)*sin(yaw)+cos(roll)*sin(pitch)*cos(yaw),\n",
    "                  sin(roll)*cos(yaw)-cos(roll)*sin(pitch)*sin(yaw),\n",
    "                  -cos(roll)*cos(pitch))\n",
    "        \n",
    "        platform.axis=axis\n",
    "        platform.up=up\n",
    "        platform.length=1.0\n",
    "        platform.width=0.65\n",
    "        plat_arrow.axis=axis\n",
    "        plat_arrow.up=up\n",
    "        plat_arrow.length=0.8\n",
    "        p_line.axis=axis\n",
    "        p_line.up=up\n",
    "        cil_roll.axis=vector(0.2*cos(roll),0.2*sin(roll),0)\n",
    "        cil_roll2.axis=vector(-0.2*cos(roll),-0.2*sin(roll),0)\n",
    "        cil_pitch.axis=vector(0.2*cos(pitch),0.2*sin(pitch),0)\n",
    "        cil_pitch2.axis=vector(-0.2*cos(pitch),-0.2*sin(pitch),0)\n",
    "        arrow_course.axis=vector(0.2*sin(yaw),0.2*cos(yaw),0)\n",
    "        L1.text = str(float(words[2]))\n",
    "        L2.text = str(float(words[1]))\n",
    "        L3.text = str(float(words[0]))     \n",
    "        \n",
    "ser.close"
   ]
  },
  {
   "cell_type": "code",
   "execution_count": null,
   "metadata": {},
   "outputs": [],
   "source": []
  }
 ],
 "metadata": {
  "kernelspec": {
   "display_name": "Python 3",
   "language": "python",
   "name": "python3"
  },
  "language_info": {
   "codemirror_mode": {
    "name": "ipython",
    "version": 3
   },
   "file_extension": ".py",
   "mimetype": "text/x-python",
   "name": "python",
   "nbconvert_exporter": "python",
   "pygments_lexer": "ipython3",
   "version": "3.7.6"
  }
 },
 "nbformat": 4,
 "nbformat_minor": 4
}
