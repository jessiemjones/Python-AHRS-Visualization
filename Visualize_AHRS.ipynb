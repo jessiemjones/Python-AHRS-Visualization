{
 "cells": [
  {
   "cell_type": "code",
   "execution_count": 1,
   "metadata": {},
   "outputs": [
    {
     "data": {
      "text/html": [
       "<div id=\"glowscript\" class=\"glowscript\"></div>"
      ],
      "text/plain": [
       "<IPython.core.display.HTML object>"
      ]
     },
     "metadata": {},
     "output_type": "display_data"
    },
    {
     "data": {
      "application/javascript": [
       "if (typeof Jupyter !== \"undefined\") { window.__context = { glowscript_container: $(\"#glowscript\").removeAttr(\"id\")};}else{ element.textContent = ' ';}"
      ],
      "text/plain": [
       "<IPython.core.display.Javascript object>"
      ]
     },
     "metadata": {},
     "output_type": "display_data"
    }
   ],
   "source": [
    "from vpython import *\n",
    "import serial\n",
    "import string\n",
    "import math\n",
    "\n",
    "from time import time"
   ]
  },
  {
   "cell_type": "code",
   "execution_count": null,
   "metadata": {},
   "outputs": [],
   "source": [
    "# Main scene\n",
    "scene=canvas(title=\"Arduino Nano + LSM9DS1 w/ Madgwick\",\n",
    "             width=500,\n",
    "             height=300,\n",
    "             center=vector(5,0,0),\n",
    "             #range=1.2,\n",
    "             forward=vector(0,-1,-0.25),\n",
    "             up=vector(0,0,1),\n",
    "             userpan = True)\n",
    "\n",
    "# Second scene (Roll, Pitch, Yaw)\n",
    "scene2 = canvas(title='Arduino Nano + LSM9DS1 w/ Madgwick',\n",
    "                 x=0,\n",
    "                 y=0,\n",
    "                 width=500,\n",
    "                 height=300,\n",
    "                 center=vector(0,0,0),\n",
    "                 background=vector(0,0,0),\n",
    "                 userpan = True,\n",
    "                 range=1)\n",
    "\n",
    "# Main scene objects\n",
    "# Reference axis (x,y,z)\n",
    "arrow(canvas=scene,color=color.green,axis=vector(1,0,0), shaftwidth=0.05, fixedwidth=1)\n",
    "arrow(canvas=scene,color=color.green,axis=vector(0,1,0), shaftwidth=0.05, fixedwidth=1)\n",
    "arrow(canvas=scene,color=color.green,axis=vector(0,0,1), shaftwidth=0.05 , fixedwidth=1)\n",
    "# labels\n",
    "label(canvas=scene,pos=vector(0,0,0.8),text=\"Arduino Nano + LSM9DS1 w/ Madgwick\",box=0,opacity=0)\n",
    "label(canvas=scene,pos=vector(1,0,0),text=\"X\",box=0,opacity=0)\n",
    "label(canvas=scene,pos=vector(0,-1,0),text=\"Y\",box=0,opacity=0)\n",
    "label(canvas=scene,pos=vector(0,0,-1),text=\"Z\",box=0,opacity=0)\n",
    "# IMU object\n",
    "platform = box(canvas=scene,up=vector(0,0,0),axis=vector(1,0,0),length=1, height=0.05, width=1, color=color.blue)\n",
    "p_line = box(canvas=scene,up=vector(0,0,0),axis=vector(1,0,0),length=1,height=0.08,width=0.1,color=color.yellow)\n",
    "plat_arrow = arrow(canvas=scene,up=vector(0,0,0),color=color.green,axis=vector(1,0,0), shaftwidth=0.06, fixedwidth=1)\n",
    "\n",
    "#Second Scene\n",
    "#Roll, Pitch, Yaw\n",
    "cil_roll = cylinder(canvas=scene2,pos=vector(-0.4,0,0),axis=vector(0.2,0,0),radius=0.01)\n",
    "cil_roll2 = cylinder(canvas=scene2,pos=vector(-0.4,0,0),axis=vector(-0.2,0,0),radius=0.01,color=color.red)\n",
    "cil_pitch = cylinder(canvas=scene2,pos=vector(0.1,0,0),axis=vector(0.2,0,0),radius=0.01,color=color.green)\n",
    "cil_pitch2 = cylinder(canvas=scene2,pos=vector(0.1,0,0),axis=vector(-0.2,0,0),radius=0.01,color=color.green)\n",
    "#cil_course = cylinder(pos=vector(0.6,0,0),axis=(0.2,0,0),radius=0.01,color=color.blue)\n",
    "#cil_course2 = cylinder(pos=vector(0.6,0,0),axis=(-0.2,0,0),radius=0.01,color=color.blue)\n",
    "arrow_course = arrow(canvas=scene2,pos=vector(0.6,0,0),color=color.cyan,axis=vector(-0.2,0,0), shaftwidth=0.02, fixedwidth=1)\n",
    "\n",
    "#Roll,Pitch,Yaw labels\n",
    "label(canvas=scene2,pos=vector(-0.4,0.3,0),text=\"Yaw\",box=0,opacity=0)\n",
    "label(canvas=scene2,pos=vector(0.1,0.3,0),text=\"Pitch\",box=0,opacity=0)\n",
    "label(canvas=scene2,pos=vector(0.55,0.3,0),text=\"Roll\",box=0,opacity=0)\n",
    "label(canvas=scene2,pos=vector(0.6,0.22,0),text=\"N\",box=0,opacity=0,color=color.yellow)\n",
    "label(canvas=scene2,pos=vector(0.6,-0.22,0),text=\"S\",box=0,opacity=0,color=color.yellow)\n",
    "label(canvas=scene2,pos=vector(0.38,0,0),text=\"W\",box=0,opacity=0,color=color.yellow)\n",
    "label(canvas=scene2,pos=vector(0.82,0,0),text=\"E\",box=0,opacity=0,color=color.yellow)\n",
    "label(canvas=scene2,pos=vector(0.75,0.15,0),height=7,text=\"NE\",box=0,color=color.yellow)\n",
    "label(canvas=scene2,pos=vector(0.45,0.15,0),height=7,text=\"NW\",box=0,color=color.yellow)\n",
    "label(canvas=scene2,pos=vector(0.75,-0.15,0),height=7,text=\"SE\",box=0,color=color.yellow)\n",
    "label(canvas=scene2,pos=vector(0.45,-0.15,0),height=7,text=\"SW\",box=0,color=color.yellow)\n",
    "\n",
    "L1 = label(canvas=scene2,pos=vector(-0.4,0.22,0),text=\"-\",box=0,opacity=0)\n",
    "L2 = label(canvas=scene2,pos=vector(0.1,0.22,0),text=\"-\",box=0,opacity=0)\n",
    "L3 = label(canvas=scene2,pos=vector(0.7,0.3,0),text=\"-\",box=0,opacity=0)"
   ]
  },
  {
   "cell_type": "code",
   "execution_count": null,
   "metadata": {},
   "outputs": [],
   "source": [
    "#Serial Connection for Arduino\n",
    "ser = serial.Serial(port='COM3',baudrate=115200, timeout=1)\n",
    "\n",
    "#Initialize variables\n",
    "roll=0\n",
    "pitch=0\n",
    "yaw=0\n",
    "\n",
    "#Degrees to radians\n",
    "grad2rad = 3.141592/180.0\n",
    "\n",
    "for i in range(0,100):\n",
    "    line = ser.readline()\n",
    "    #Decode bytes into string\n",
    "    decoded = str(line, 'utf-8')\n",
    "    #print(decoded)\n",
    "    size = len(decoded)\n",
    "    #slice string to remove last 2 characters from string\n",
    "    mod_string = decoded[:size - 2]\n",
    "    #print(mod_string)\n",
    "    words = str.split(mod_string,\",\")    # Fields split\n",
    "    print(float(words[0]),float(words[1]),float(words[2]))\n",
    "    print(len(words))\n",
    "    if len(words) > 2:\n",
    "        #try:\n",
    "        yaw = float(words[0])*grad2rad\n",
    "        pitch = float(words[1])*grad2rad\n",
    "        roll = float(words[2])*grad2rad\n",
    "        print(yaw,pitch,roll)\n",
    "        #except:\n",
    "            #print(\"Invalid line\")\n",
    "\n",
    "        axis=vector(cos(pitch)*cos(yaw),-cos(pitch)*sin(yaw),sin(pitch)) \n",
    "        up=vector(sin(roll)*sin(yaw)+cos(roll)*sin(pitch)*cos(yaw),sin(roll)*cos(yaw)-cos(roll)*sin(pitch)*sin(yaw),-cos(roll)*cos(pitch))\n",
    "        platform.axis=axis\n",
    "        platform.up=up\n",
    "        #platform.length=1.0\n",
    "        #platform.width=0.65\n",
    "        plat_arrow.axis=axis\n",
    "        plat_arrow.up=up\n",
    "        #plat_arrow.length=0.8\n",
    "        p_line.axis=axis\n",
    "        p_line.up=up\n",
    "        cil_roll.axis=vector(0.2*cos(roll),0.2*sin(roll),0)\n",
    "        cil_roll2.axis=vector(-0.2*cos(roll),-0.2*sin(roll),0)\n",
    "        cil_pitch.axis=vector(0.2*cos(pitch),0.2*sin(pitch),0)\n",
    "        cil_pitch2.axis=vector(-0.2*cos(pitch),-0.2*sin(pitch),0)\n",
    "        arrow_course.axis=vector(0.2*sin(yaw),0.2*cos(yaw),0)\n",
    "        L1.text = str(float(words[0]))\n",
    "        L2.text = str(float(words[1]))\n",
    "        L3.text = str(float(words[2]))        \n",
    "ser.close"
   ]
  }
 ],
 "metadata": {
  "kernelspec": {
   "display_name": "Python 3",
   "language": "python",
   "name": "python3"
  },
  "language_info": {
   "codemirror_mode": {
    "name": "ipython",
    "version": 3
   },
   "file_extension": ".py",
   "mimetype": "text/x-python",
   "name": "python",
   "nbconvert_exporter": "python",
   "pygments_lexer": "ipython3",
   "version": "3.7.6"
  }
 },
 "nbformat": 4,
 "nbformat_minor": 4
}
